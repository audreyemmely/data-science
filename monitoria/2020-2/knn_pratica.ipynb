{
  "nbformat": 4,
  "nbformat_minor": 0,
  "metadata": {
    "colab": {
      "name": "knn-pratica.ipynb",
      "provenance": [],
      "collapsed_sections": []
    },
    "kernelspec": {
      "name": "python3",
      "display_name": "Python 3"
    },
    "language_info": {
      "name": "python"
    }
  },
  "cells": [
    {
      "cell_type": "code",
      "metadata": {
        "id": "ftYJzddQujsD"
      },
      "source": [
        "import warnings\n",
        "warnings.filterwarnings('ignore')"
      ],
      "execution_count": 1,
      "outputs": []
    },
    {
      "cell_type": "code",
      "metadata": {
        "id": "p9qagDcEWdzN"
      },
      "source": [
        "from sklearn import datasets\n",
        "import pandas as pd\n",
        "import matplotlib.pyplot as plt"
      ],
      "execution_count": 2,
      "outputs": []
    },
    {
      "cell_type": "code",
      "metadata": {
        "id": "P8W0tzOAXEeg"
      },
      "source": [
        "wine = datasets.load_wine()"
      ],
      "execution_count": 3,
      "outputs": []
    },
    {
      "cell_type": "code",
      "metadata": {
        "id": "wc6Jt--iogQQ"
      },
      "source": [
        "df_wine = pd.DataFrame(data = wine.data, columns = wine.feature_names)"
      ],
      "execution_count": 4,
      "outputs": []
    },
    {
      "cell_type": "code",
      "metadata": {
        "id": "2d270R2Vot-J"
      },
      "source": [
        "df_wine['class'] = wine.target"
      ],
      "execution_count": 5,
      "outputs": []
    },
    {
      "cell_type": "code",
      "metadata": {
        "colab": {
          "base_uri": "https://localhost:8080/",
          "height": 483
        },
        "id": "Uvnu3smBo0KP",
        "outputId": "fd6d5634-7a99-4a88-c6a4-1ab06a9d464a"
      },
      "source": [
        "df_wine.head().T"
      ],
      "execution_count": 6,
      "outputs": [
        {
          "output_type": "execute_result",
          "data": {
            "text/html": [
              "<div>\n",
              "<style scoped>\n",
              "    .dataframe tbody tr th:only-of-type {\n",
              "        vertical-align: middle;\n",
              "    }\n",
              "\n",
              "    .dataframe tbody tr th {\n",
              "        vertical-align: top;\n",
              "    }\n",
              "\n",
              "    .dataframe thead th {\n",
              "        text-align: right;\n",
              "    }\n",
              "</style>\n",
              "<table border=\"1\" class=\"dataframe\">\n",
              "  <thead>\n",
              "    <tr style=\"text-align: right;\">\n",
              "      <th></th>\n",
              "      <th>0</th>\n",
              "      <th>1</th>\n",
              "      <th>2</th>\n",
              "      <th>3</th>\n",
              "      <th>4</th>\n",
              "    </tr>\n",
              "  </thead>\n",
              "  <tbody>\n",
              "    <tr>\n",
              "      <th>alcohol</th>\n",
              "      <td>14.23</td>\n",
              "      <td>13.20</td>\n",
              "      <td>13.16</td>\n",
              "      <td>14.37</td>\n",
              "      <td>13.24</td>\n",
              "    </tr>\n",
              "    <tr>\n",
              "      <th>malic_acid</th>\n",
              "      <td>1.71</td>\n",
              "      <td>1.78</td>\n",
              "      <td>2.36</td>\n",
              "      <td>1.95</td>\n",
              "      <td>2.59</td>\n",
              "    </tr>\n",
              "    <tr>\n",
              "      <th>ash</th>\n",
              "      <td>2.43</td>\n",
              "      <td>2.14</td>\n",
              "      <td>2.67</td>\n",
              "      <td>2.50</td>\n",
              "      <td>2.87</td>\n",
              "    </tr>\n",
              "    <tr>\n",
              "      <th>alcalinity_of_ash</th>\n",
              "      <td>15.60</td>\n",
              "      <td>11.20</td>\n",
              "      <td>18.60</td>\n",
              "      <td>16.80</td>\n",
              "      <td>21.00</td>\n",
              "    </tr>\n",
              "    <tr>\n",
              "      <th>magnesium</th>\n",
              "      <td>127.00</td>\n",
              "      <td>100.00</td>\n",
              "      <td>101.00</td>\n",
              "      <td>113.00</td>\n",
              "      <td>118.00</td>\n",
              "    </tr>\n",
              "    <tr>\n",
              "      <th>total_phenols</th>\n",
              "      <td>2.80</td>\n",
              "      <td>2.65</td>\n",
              "      <td>2.80</td>\n",
              "      <td>3.85</td>\n",
              "      <td>2.80</td>\n",
              "    </tr>\n",
              "    <tr>\n",
              "      <th>flavanoids</th>\n",
              "      <td>3.06</td>\n",
              "      <td>2.76</td>\n",
              "      <td>3.24</td>\n",
              "      <td>3.49</td>\n",
              "      <td>2.69</td>\n",
              "    </tr>\n",
              "    <tr>\n",
              "      <th>nonflavanoid_phenols</th>\n",
              "      <td>0.28</td>\n",
              "      <td>0.26</td>\n",
              "      <td>0.30</td>\n",
              "      <td>0.24</td>\n",
              "      <td>0.39</td>\n",
              "    </tr>\n",
              "    <tr>\n",
              "      <th>proanthocyanins</th>\n",
              "      <td>2.29</td>\n",
              "      <td>1.28</td>\n",
              "      <td>2.81</td>\n",
              "      <td>2.18</td>\n",
              "      <td>1.82</td>\n",
              "    </tr>\n",
              "    <tr>\n",
              "      <th>color_intensity</th>\n",
              "      <td>5.64</td>\n",
              "      <td>4.38</td>\n",
              "      <td>5.68</td>\n",
              "      <td>7.80</td>\n",
              "      <td>4.32</td>\n",
              "    </tr>\n",
              "    <tr>\n",
              "      <th>hue</th>\n",
              "      <td>1.04</td>\n",
              "      <td>1.05</td>\n",
              "      <td>1.03</td>\n",
              "      <td>0.86</td>\n",
              "      <td>1.04</td>\n",
              "    </tr>\n",
              "    <tr>\n",
              "      <th>od280/od315_of_diluted_wines</th>\n",
              "      <td>3.92</td>\n",
              "      <td>3.40</td>\n",
              "      <td>3.17</td>\n",
              "      <td>3.45</td>\n",
              "      <td>2.93</td>\n",
              "    </tr>\n",
              "    <tr>\n",
              "      <th>proline</th>\n",
              "      <td>1065.00</td>\n",
              "      <td>1050.00</td>\n",
              "      <td>1185.00</td>\n",
              "      <td>1480.00</td>\n",
              "      <td>735.00</td>\n",
              "    </tr>\n",
              "    <tr>\n",
              "      <th>class</th>\n",
              "      <td>0.00</td>\n",
              "      <td>0.00</td>\n",
              "      <td>0.00</td>\n",
              "      <td>0.00</td>\n",
              "      <td>0.00</td>\n",
              "    </tr>\n",
              "  </tbody>\n",
              "</table>\n",
              "</div>"
            ],
            "text/plain": [
              "                                    0        1        2        3       4\n",
              "alcohol                         14.23    13.20    13.16    14.37   13.24\n",
              "malic_acid                       1.71     1.78     2.36     1.95    2.59\n",
              "ash                              2.43     2.14     2.67     2.50    2.87\n",
              "alcalinity_of_ash               15.60    11.20    18.60    16.80   21.00\n",
              "magnesium                      127.00   100.00   101.00   113.00  118.00\n",
              "total_phenols                    2.80     2.65     2.80     3.85    2.80\n",
              "flavanoids                       3.06     2.76     3.24     3.49    2.69\n",
              "nonflavanoid_phenols             0.28     0.26     0.30     0.24    0.39\n",
              "proanthocyanins                  2.29     1.28     2.81     2.18    1.82\n",
              "color_intensity                  5.64     4.38     5.68     7.80    4.32\n",
              "hue                              1.04     1.05     1.03     0.86    1.04\n",
              "od280/od315_of_diluted_wines     3.92     3.40     3.17     3.45    2.93\n",
              "proline                       1065.00  1050.00  1185.00  1480.00  735.00\n",
              "class                            0.00     0.00     0.00     0.00    0.00"
            ]
          },
          "metadata": {
            "tags": []
          },
          "execution_count": 6
        }
      ]
    },
    {
      "cell_type": "code",
      "metadata": {
        "colab": {
          "base_uri": "https://localhost:8080/"
        },
        "id": "HCrREBxpo9Oc",
        "outputId": "784b34d5-965a-4a19-e2bc-a74878057434"
      },
      "source": [
        "df_wine.info()"
      ],
      "execution_count": 7,
      "outputs": [
        {
          "output_type": "stream",
          "text": [
            "<class 'pandas.core.frame.DataFrame'>\n",
            "RangeIndex: 178 entries, 0 to 177\n",
            "Data columns (total 14 columns):\n",
            " #   Column                        Non-Null Count  Dtype  \n",
            "---  ------                        --------------  -----  \n",
            " 0   alcohol                       178 non-null    float64\n",
            " 1   malic_acid                    178 non-null    float64\n",
            " 2   ash                           178 non-null    float64\n",
            " 3   alcalinity_of_ash             178 non-null    float64\n",
            " 4   magnesium                     178 non-null    float64\n",
            " 5   total_phenols                 178 non-null    float64\n",
            " 6   flavanoids                    178 non-null    float64\n",
            " 7   nonflavanoid_phenols          178 non-null    float64\n",
            " 8   proanthocyanins               178 non-null    float64\n",
            " 9   color_intensity               178 non-null    float64\n",
            " 10  hue                           178 non-null    float64\n",
            " 11  od280/od315_of_diluted_wines  178 non-null    float64\n",
            " 12  proline                       178 non-null    float64\n",
            " 13  class                         178 non-null    int64  \n",
            "dtypes: float64(13), int64(1)\n",
            "memory usage: 19.6 KB\n"
          ],
          "name": "stdout"
        }
      ]
    },
    {
      "cell_type": "code",
      "metadata": {
        "colab": {
          "base_uri": "https://localhost:8080/"
        },
        "id": "9KAeEH8rpCgU",
        "outputId": "e874f1c8-b537-4c9f-96ba-0d2812d165b2"
      },
      "source": [
        "df_wine['class'].value_counts()"
      ],
      "execution_count": 8,
      "outputs": [
        {
          "output_type": "execute_result",
          "data": {
            "text/plain": [
              "1    71\n",
              "0    59\n",
              "2    48\n",
              "Name: class, dtype: int64"
            ]
          },
          "metadata": {
            "tags": []
          },
          "execution_count": 8
        }
      ]
    },
    {
      "cell_type": "code",
      "metadata": {
        "id": "ZMishkokpJPr"
      },
      "source": [
        "from sklearn.model_selection import train_test_split"
      ],
      "execution_count": 9,
      "outputs": []
    },
    {
      "cell_type": "code",
      "metadata": {
        "id": "3Ft8yTFNpPuT"
      },
      "source": [
        "X_train, X_test, y_train, y_test = train_test_split(df_wine.drop('class', axis = 1), df_wine['class'], test_size = 0.3)"
      ],
      "execution_count": 10,
      "outputs": []
    },
    {
      "cell_type": "code",
      "metadata": {
        "id": "YMvXl1bPpifD"
      },
      "source": [
        "from sklearn.neighbors import KNeighborsClassifier"
      ],
      "execution_count": 11,
      "outputs": []
    },
    {
      "cell_type": "code",
      "metadata": {
        "id": "ZXaahZiOqELi"
      },
      "source": [
        "knn  = KNeighborsClassifier(n_neighbors = 3)"
      ],
      "execution_count": 12,
      "outputs": []
    },
    {
      "cell_type": "code",
      "metadata": {
        "colab": {
          "base_uri": "https://localhost:8080/"
        },
        "id": "WI0sReqlqJSX",
        "outputId": "244598a7-847b-4198-839f-a540e9c7290e"
      },
      "source": [
        "knn.fit(X_train, y_train)"
      ],
      "execution_count": 13,
      "outputs": [
        {
          "output_type": "execute_result",
          "data": {
            "text/plain": [
              "KNeighborsClassifier(algorithm='auto', leaf_size=30, metric='minkowski',\n",
              "                     metric_params=None, n_jobs=None, n_neighbors=3, p=2,\n",
              "                     weights='uniform')"
            ]
          },
          "metadata": {
            "tags": []
          },
          "execution_count": 13
        }
      ]
    },
    {
      "cell_type": "code",
      "metadata": {
        "colab": {
          "base_uri": "https://localhost:8080/"
        },
        "id": "HbQIKmD-qOzb",
        "outputId": "4416a049-2429-4f96-f792-db038556c76f"
      },
      "source": [
        "result = knn.predict(X_test)\n",
        "result"
      ],
      "execution_count": 14,
      "outputs": [
        {
          "output_type": "execute_result",
          "data": {
            "text/plain": [
              "array([0, 1, 1, 0, 1, 0, 2, 0, 1, 1, 0, 0, 1, 2, 0, 1, 0, 1, 0, 2, 1, 2,\n",
              "       0, 1, 0, 1, 1, 0, 2, 2, 1, 1, 0, 2, 0, 0, 2, 0, 0, 0, 1, 0, 2, 0,\n",
              "       2, 1, 1, 0, 1, 2, 1, 0, 0, 0])"
            ]
          },
          "metadata": {
            "tags": []
          },
          "execution_count": 14
        }
      ]
    },
    {
      "cell_type": "code",
      "metadata": {
        "colab": {
          "base_uri": "https://localhost:8080/"
        },
        "id": "UZAEV-ZcqWxx",
        "outputId": "39e1413d-6204-4ccf-c67f-5df09633eeff"
      },
      "source": [
        "print(pd.crosstab(y_test, result, rownames = ['Real'], colnames = ['Predito'], margins = True))"
      ],
      "execution_count": 15,
      "outputs": [
        {
          "output_type": "stream",
          "text": [
            "Predito   0   1   2  All\n",
            "Real                    \n",
            "0        15   1   0   16\n",
            "1         2  10   3   15\n",
            "2         7   8   8   23\n",
            "All      24  19  11   54\n"
          ],
          "name": "stdout"
        }
      ]
    },
    {
      "cell_type": "code",
      "metadata": {
        "colab": {
          "base_uri": "https://localhost:8080/"
        },
        "id": "aqhiK4D2q5UQ",
        "outputId": "fd8e17a8-1c2e-4ab5-868a-b75831c9c8b9"
      },
      "source": [
        "from sklearn import metrics\n",
        "print(metrics.classification_report(y_test, result, target_names = wine.target_names))"
      ],
      "execution_count": 16,
      "outputs": [
        {
          "output_type": "stream",
          "text": [
            "              precision    recall  f1-score   support\n",
            "\n",
            "     class_0       0.62      0.94      0.75        16\n",
            "     class_1       0.53      0.67      0.59        15\n",
            "     class_2       0.73      0.35      0.47        23\n",
            "\n",
            "    accuracy                           0.61        54\n",
            "   macro avg       0.63      0.65      0.60        54\n",
            "weighted avg       0.64      0.61      0.59        54\n",
            "\n"
          ],
          "name": "stdout"
        }
      ]
    },
    {
      "cell_type": "code",
      "metadata": {
        "id": "0z2sWuuHtCsb"
      },
      "source": [
        "from mlxtend.plotting import plot_decision_regions"
      ],
      "execution_count": 17,
      "outputs": []
    },
    {
      "cell_type": "code",
      "metadata": {
        "id": "8LnIVG76rPDg"
      },
      "source": [
        "X = wine.data[:, [0, 2]]\n",
        "y = wine.target"
      ],
      "execution_count": 18,
      "outputs": []
    },
    {
      "cell_type": "code",
      "metadata": {
        "id": "opStRVScrseF"
      },
      "source": [
        "def plot_borders(neighbors):\n",
        "  knn = KNeighborsClassifier(n_neighbors = neighbors)\n",
        "  knn.fit(X, y)\n",
        "  plt.figure(figsize=(8, 5))\n",
        "  plot_decision_regions(X, y, clf = knn, legend = 2)\n",
        "  plt.xlabel('alcohol')\n",
        "  plt.ylabel('malic_acid')\n",
        "  plt.title('Fronteiras de complexidade - KNN')"
      ],
      "execution_count": 19,
      "outputs": []
    },
    {
      "cell_type": "code",
      "metadata": {
        "colab": {
          "base_uri": "https://localhost:8080/",
          "height": 350
        },
        "id": "3cIfOkJmsVZ8",
        "outputId": "89386f54-b7f2-4598-bac0-405d7e2cc1b2"
      },
      "source": [
        "plot_borders(3)"
      ],
      "execution_count": 20,
      "outputs": [
        {
          "output_type": "display_data",
          "data": {
            "image/png": "[encoded data removed]",
            "text/plain": [
              "<Figure size 576x360 with 1 Axes>"
            ]
          },
          "metadata": {
            "tags": [],
            "needs_background": "light"
          }
        }
      ]
    }
  ]
}